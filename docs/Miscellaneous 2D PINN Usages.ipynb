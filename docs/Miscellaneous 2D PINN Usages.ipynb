{
 "cells": [
  {
   "cell_type": "markdown",
   "id": "2f7e8f16-1c06-416f-aec9-061371270d4c",
   "metadata": {},
   "source": [
    "# Miscellaneous 2D PINN Usages\n",
    "\n",
    "For miscellaneous uses, we showcase pulsarfitpy's ability to handle multiple missing constants in a given differential system. To do so, we sample another model adapted from [Hamil](https://arxiv.org/abs/1608.01383) and many other studies regarding the braking index $n$, frequency $\\Omega$, and frequency derivative $\\dot \\Omega$ regarding pulsars:\n",
    "\n",
    "| $\\large \\dot \\Omega = -K \\cdot \\Omega^{n}$ |\n",
    "|:-:|\n",
    "\n",
    "In this notebook, we experimentally determine an approximation for both $K$ and $n$ using pulsarfitpy & ATNF data, and how to efficiently use its multiple constant finder feature to the fullest."
   ]
  },
  {
   "cell_type": "markdown",
   "id": "3f5394a3-2776-48b1-972f-bc63775860de",
   "metadata": {},
   "source": [
    "## Making The Differential Equation Compatible with pulsarfitpy\n",
    "\n",
    "We derive a seperate expression involving the period derivative $\\dot P$ and period $P$ to abide by the three conditions of our program (refer to the Implementing 2D PINNs notebook). We first start off with the general identity of $\\Omega$ in rotational dynamics, defined as the angular frequency, or:\n",
    "\n",
    "$\\large \\Omega = \\frac{2\\pi}{P}$\n",
    "|:-:|\n",
    "\n",
    "Using this, we can derive an expression for $\\dot \\Omega$ with respect to time, seen as:\n",
    "\n",
    "$\\large \\dot \\Omega = -\\frac{2\\pi}{P^2} \\dot P$\n",
    "|:-:|\n",
    "\n",
    "We can plug these identities into our second expression for $\\dot \\Omega$, resulting in the following derivations:\n",
    "\n",
    "$\\large = -\\frac{2\\pi}{P^2} \\dot P = -K \\cdot \\left( \\frac{2\\pi}{P}  \\right)^n$\n",
    "|:-:|\n",
    "\n",
    "$\\large = 2\\pi \\dot P = K(2\\pi)^n \\cdot \\frac{P^2}{P^n}$\n",
    "|:-:|\n",
    "\n",
    "Finally, to make it combatible with the PyTorch framework, creating a logarithmic scale is preferred to accurately train the model and its visualizations, especially with both extremely high and low values. Taking the $\\log()$ of both sides yields the final expression for our model:\n",
    "\n",
    "$\\large = \\log(\\dot P) = \\log(K(2\\pi)^{n-1} \\cdot P^{2-n})$\n",
    "|:-:|\n",
    "\n",
    "$\\large \\Rightarrow \\boxed{\\log(\\dot P) = \\log(K) + (n-1)\\log(2\\pi) - \\log(P)}$\n",
    "|:-:|\n",
    "\n",
    "Since this expression fits our three criteria, we will use this theoretical framework and experimentally determine K using the PulsarPINN class below."
   ]
  },
  {
   "cell_type": "markdown",
   "id": "dc01d214-59e0-4359-afd0-ae6ed07a360e",
   "metadata": {},
   "source": [
    "# Using the PulsarPINN Class with Multiple Missing Variables\n",
    "\n",
    "Firstly, define variables and the differential equation in your code using sympy and numpy for constants."
   ]
  },
  {
   "cell_type": "code",
   "execution_count": null,
   "id": "626d2d0e-e1b0-456e-b259-5ccc571d92b4",
   "metadata": {},
   "outputs": [],
   "source": [
    "import sympy as sp\n",
    "import numpy as np\n",
    "\n",
    "logP, logPDOT = sp.symbols('logP logPDOT')\n",
    "logK = sp.Symbol('logK')\n",
    "n = sp.Symbol('n')\n",
    "C = sp.Float(np.log10(2 * np.pi)) # C = log(2pi) for simplicity\n",
    "\n",
    "differential_equation = sp.Eq(logPDOT, logK + (n - 1) * C - logP)"
   ]
  },
  {
   "cell_type": "markdown",
   "id": "95fa3deb-7230-484d-8bb7-145e6887b816",
   "metadata": {},
   "source": [
    "Define a dictionary containing the constants that are to be learned in the PINN. An initial guess for the value is required to computationally determine if the variable needs to go higher or lower."
   ]
  },
  {
   "cell_type": "code",
   "execution_count": null,
   "id": "56d93c26-1c6e-47bd-b9d0-9cf37a9fc617",
   "metadata": {},
   "outputs": [],
   "source": [
    "learn_constants = {logK: -14.0, n: 3.0} "
   ]
  },
  {
   "cell_type": "markdown",
   "id": "8841db4f-f2e3-4586-8007-15fa76fcaac5",
   "metadata": {},
   "source": [
    "Call an instance to the PulsarPINN class and put the required information into the class, as shown. The class automatically creates a psrqpy query and fetches the psrqpy data based on the ```x_param``` and ```y_param``` inputs."
   ]
  },
  {
   "cell_type": "code",
   "execution_count": null,
   "id": "c049cfa7-e198-4b5b-ac89-c7c46e32f245",
   "metadata": {},
   "outputs": [],
   "source": [
    "from pulsarfitpy import PulsarPINN\n",
    "\n",
    "pinn = PulsarPINN(\n",
    "    x_param='P0',\n",
    "    y_param='P1',\n",
    "    differential_eq=differential_equation,\n",
    "    x_sym=logP,    # Corresponding param to P0 in logarithmic form\n",
    "    y_sym=logPDOT, # Corresponding param to P1 in logarithmic form\n",
    "    learn_constants=learn_constants,\n",
    "    log_scale=True\n",
    ")"
   ]
  },
  {
   "cell_type": "markdown",
   "id": "9509ef36-135a-4f72-942d-eafa9519bb87",
   "metadata": {},
   "source": [
    "After creating the class, the user can also have the program suggest initial guesses for the constant K using the ```.recommend_initial_guesses()``` as shown here:"
   ]
  },
  {
   "cell_type": "code",
   "execution_count": null,
   "id": "627b0e8b-b080-405e-adbd-1bdb0855ecb5",
   "metadata": {},
   "outputs": [],
   "source": [
    "pinn.recommend_initial_guesses(method='mean')\n",
    "pinn.recommend_initial_guesses(method='regression')\n",
    "pinn.recommend_initial_guesses(method='ols_loglog')"
   ]
  },
  {
   "cell_type": "markdown",
   "id": "237e5907-f172-4d25-b2de-487c578f82de",
   "metadata": {},
   "source": [
    "After inputting the needed arguments, the PINN can now start training. Simply call the ```.train()``` method in your code and enter the desired epochs for the model, and record the learned constants using ```.show_learned_constants()```."
   ]
  },
  {
   "cell_type": "code",
   "execution_count": null,
   "id": "025ccb3a-c367-47c4-a6ce-4ab7747c5176",
   "metadata": {},
   "outputs": [],
   "source": [
    "pinn.train(epochs=10000)\n",
    "learned_values = pinn.show_learned_constants()"
   ]
  },
  {
   "cell_type": "markdown",
   "id": "5d64a6ae-10fa-43c9-b5b5-d3cc28382c41",
   "metadata": {},
   "source": [
    "The user may also use the ```.plot_PINN()``` function to visualize the model in comparison to ATNF data."
   ]
  },
  {
   "cell_type": "code",
   "execution_count": null,
   "id": "0a6f5272-05a9-43db-9fa7-2f8bbcf03982",
   "metadata": {},
   "outputs": [],
   "source": [
    "pinn.plot_PINN()"
   ]
  },
  {
   "cell_type": "markdown",
   "id": "c49f5f86-3b56-40eb-b16f-2753be0780be",
   "metadata": {},
   "source": [
    "The user also has the option to plot the error curves during its training by calling the ```.plot_PINN_loss_curves()``` function."
   ]
  },
  {
   "cell_type": "code",
   "execution_count": null,
   "id": "2a2a4de8-cf33-447a-be44-c8d24be40251",
   "metadata": {},
   "outputs": [],
   "source": [
    "pinn.plot_PINN_loss()"
   ]
  }
 ],
 "metadata": {
  "kernelspec": {
   "display_name": "Python 3 (ipykernel)",
   "language": "python",
   "name": "python3"
  },
  "language_info": {
   "codemirror_mode": {
    "name": "ipython",
    "version": 3
   },
   "file_extension": ".py",
   "mimetype": "text/x-python",
   "name": "python",
   "nbconvert_exporter": "python",
   "pygments_lexer": "ipython3",
   "version": "3.12.8"
  }
 },
 "nbformat": 4,
 "nbformat_minor": 5
}
